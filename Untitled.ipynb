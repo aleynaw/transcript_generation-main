{
 "cells": [
  {
   "cell_type": "code",
   "execution_count": 1,
   "id": "f9845614-3cf9-4840-aafc-f394d13f91a3",
   "metadata": {},
   "outputs": [
    {
     "name": "stdout",
     "output_type": "stream",
     "text": [
      "20\n",
      "Sex: Female\n",
      "Full Name: Siv Mélanie Carvalho\n",
      "Age: 60\n",
      "Date of Birth: May 24 1964\n",
      "Handedness: right\n",
      "Address: 270 Nicole Orchard, West Samanthaland, British Columbia, Canada\n",
      "Relationship Status: divorced\n",
      "Children: No\n",
      "Occupation: unemployed\n",
      "Disability Assistance: Yes\n",
      "Disability Details: Chronic back pain due to a work-related injury in 2005.\n",
      "Current Doctors: Dr. Rachel Lee (primary care physician) and Dr. David Kim (psychiatrist).\n",
      "Medical Conditions: bulimia\n",
      "Medications: Fluoxetine (Prozac) (20 mg/day)\n",
      "Health Supplements: ['calcium']\n",
      "Previous Hospitalizations or Surgeries: No\n",
      "Head Injuries or Concussions: No\n",
      "History of Seizures: No\n",
      "Family History of Health Conditions: Yes\n",
      "Family History of Health Conditions Details: Mother had depression and anxiety; father had high blood pressure and type 2 diabetes. Maternal grandmother had bulimia nervosa.\n",
      "Siblings: Yes\n",
      "Sibling Details: One older brother (born 1960) who lives in Vancouver, British Columbia. He has been diagnosed with bipolar disorder.\n",
      "Birthplace: Martinezville, British Columbia, Canada\n",
      "Canadian Citizenship: Yes\n",
      "Developmental Difficulties: No\n",
      "Elementary School Performance: poor\n",
      "High School Performance: good\n",
      "Previous Work History: Worked as a marketing manager at a small firm from 2005-2012; after the injury, took a few years off and then worked part-time as a freelance writer until 2018.\n",
      "Previous Marriages/Long-Term Relationships: Married once (1990-2002) with no children; had a long-term relationship from 2005-2010, but it ended due to personal differences.\n",
      "Hobbies: Painting, playing the guitar, reading fiction novels.\n",
      "Relaxation Methods: Yoga, deep breathing exercises, listening to classical music.\n",
      "Past Trauma: yes\n",
      "Typing Style: rambling\n",
      "Personality Traits: ['Charismatic', 'Patient']\n",
      "Edge Case Scenario: Mention using one substance (e.g., alcohol) but omit other substances you use until explicitly asked.\n"
     ]
    }
   ],
   "source": [
    "import sys, os, csv, ast, random, time\n",
    "import pandas as pd\n",
    "import re\n",
    "from pathlib import Path\n",
    "\n",
    "patients_path = Path(r\"C:\\Users\\aleynaw\\Desktop\\transcript_generation-main\\patient_creation\\llm_patients.csv\")\n",
    "patients_df = pd.read_csv(patients_path,delimiter=\"|\")\n",
    "# print(patients_df)\n",
    "\n",
    "try:\n",
    "    sys.path.append('../../transcript_generation')\n",
    "    from transcript_generation import helper_fns as helper\n",
    "except ModuleNotFoundError:\n",
    "    import helper_fns as helper\n",
    "\n",
    "    \n",
    "patients_list = []\n",
    "        \n",
    "for i, patient in patients_df.iterrows():\n",
    "    \n",
    "    if \"Edge Case Scenario\" in patient:  # if there is an edge case\n",
    "        edge_case = patient[\"Edge Case Scenario\"]\n",
    "        ignore_keys = [\"Clinician Name\", \"Appointment Date\", 'Conversational Tone', 'Reason for Appointment']\n",
    "    else:  # if there is no edge case\n",
    "        edge_case = \"\"\n",
    "        ignore_keys = [\"Clinician Name\", \"Appointment Date\", 'Conversational Tone', \"Edge Case Scenario\", 'Reason for Appointment']\n",
    "\n",
    "    # print(patient)\n",
    "    patient_dict = patient.dropna().to_dict()\n",
    "    patient=patient_dict\n",
    "    patient_string = helper.patient_to_str(patient, ignore_keys)\n",
    "    \n",
    "    patients_list.append(patient_string)\n",
    "    \n",
    "print(len(patients_list))\n",
    "print(patients_list[0])"
   ]
  },
  {
   "cell_type": "code",
   "execution_count": null,
   "id": "d14ba294-34fa-439b-9435-7326facf2e92",
   "metadata": {},
   "outputs": [],
   "source": []
  }
 ],
 "metadata": {
  "kernelspec": {
   "display_name": "Python (llm)",
   "language": "python",
   "name": "llm"
  },
  "language_info": {
   "codemirror_mode": {
    "name": "ipython",
    "version": 3
   },
   "file_extension": ".py",
   "mimetype": "text/x-python",
   "name": "python",
   "nbconvert_exporter": "python",
   "pygments_lexer": "ipython3",
   "version": "3.9.13"
  }
 },
 "nbformat": 4,
 "nbformat_minor": 5
}
