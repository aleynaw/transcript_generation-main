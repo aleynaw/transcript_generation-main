{
 "cells": [
  {
   "cell_type": "code",
   "execution_count": 1,
   "id": "06c8abcc-8550-4fdb-a022-ff666ebdea62",
   "metadata": {},
   "outputs": [],
   "source": [
    "import numpy as np\n",
    "\n",
    "arr = ['pooh', 'rabbit', 'piglet', 'Christopher']"
   ]
  },
  {
   "cell_type": "code",
   "execution_count": 2,
   "id": "13c29649-f609-4a12-9995-74928d482e35",
   "metadata": {},
   "outputs": [
    {
     "ename": "ValueError",
     "evalue": "probabilities do not sum to 1",
     "output_type": "error",
     "traceback": [
      "\u001b[0;31m---------------------------------------------------------------------------\u001b[0m",
      "\u001b[0;31mValueError\u001b[0m                                Traceback (most recent call last)",
      "Cell \u001b[0;32mIn[2], line 1\u001b[0m\n\u001b[0;32m----> 1\u001b[0m arr_count \u001b[38;5;241m=\u001b[39m \u001b[43mnp\u001b[49m\u001b[38;5;241;43m.\u001b[39;49m\u001b[43mrandom\u001b[49m\u001b[38;5;241;43m.\u001b[39;49m\u001b[43mchoice\u001b[49m\u001b[43m(\u001b[49m\u001b[43marr\u001b[49m\u001b[43m,\u001b[49m\u001b[43m \u001b[49m\u001b[38;5;241;43m10000\u001b[39;49m\u001b[43m,\u001b[49m\u001b[43m \u001b[49m\u001b[43mp\u001b[49m\u001b[38;5;241;43m=\u001b[39;49m\u001b[43m[\u001b[49m\u001b[38;5;241;43m0.5\u001b[39;49m\u001b[43m,\u001b[49m\u001b[43m \u001b[49m\u001b[38;5;241;43m0.2\u001b[39;49m\u001b[43m,\u001b[49m\u001b[43m \u001b[49m\u001b[38;5;241;43m0.1\u001b[39;49m\u001b[43m,\u001b[49m\u001b[43m \u001b[49m\u001b[38;5;241;43m0.3\u001b[39;49m\u001b[43m]\u001b[49m\u001b[43m)\u001b[49m\n",
      "File \u001b[0;32mnumpy/random/mtrand.pyx:994\u001b[0m, in \u001b[0;36mnumpy.random.mtrand.RandomState.choice\u001b[0;34m()\u001b[0m\n",
      "\u001b[0;31mValueError\u001b[0m: probabilities do not sum to 1"
     ]
    }
   ],
   "source": [
    "arr_count = np.random.choice(arr, 10000, p=[0.5, 0.2, 0.1, 0.3])"
   ]
  },
  {
   "cell_type": "code",
   "execution_count": null,
   "id": "e1ec54a1-fdd5-42ac-919f-37e3d61f8b3c",
   "metadata": {},
   "outputs": [],
   "source": [
    "arr_count"
   ]
  },
  {
   "cell_type": "code",
   "execution_count": null,
   "id": "9e67aed8-78c4-4643-b51e-01e8e82d16d0",
   "metadata": {},
   "outputs": [],
   "source": [
    "j=0\n",
    "for i in arr_count:\n",
    "    if i == \"rabbit\":\n",
    "        j += 1\n",
    "\n",
    "print(j)"
   ]
  },
  {
   "cell_type": "code",
   "execution_count": 8,
   "id": "7da4a6f8-6219-47ab-a727-d62266f54b8f",
   "metadata": {},
   "outputs": [],
   "source": [
    "import random\n",
    "\n",
    "arr_random = random.choices(arr, [0.5, 0.3, 0.1, 0.3], k=10000)"
   ]
  },
  {
   "cell_type": "code",
   "execution_count": 9,
   "id": "06620568-7c04-420e-8880-32cf62785fb0",
   "metadata": {},
   "outputs": [
    {
     "name": "stdout",
     "output_type": "stream",
     "text": [
      "2468\n"
     ]
    }
   ],
   "source": [
    "j=0\n",
    "for i in arr_random:\n",
    "    if i == \"rabbit\":\n",
    "        j += 1\n",
    "\n",
    "print(j)"
   ]
  },
  {
   "cell_type": "code",
   "execution_count": null,
   "id": "f762b3eb-0443-4756-a1b0-0f5b33a60d9f",
   "metadata": {},
   "outputs": [],
   "source": []
  }
 ],
 "metadata": {
  "kernelspec": {
   "display_name": "Python (patient_creator)",
   "language": "python",
   "name": "patient_creator"
  },
  "language_info": {
   "codemirror_mode": {
    "name": "ipython",
    "version": 3
   },
   "file_extension": ".py",
   "mimetype": "text/x-python",
   "name": "python",
   "nbconvert_exporter": "python",
   "pygments_lexer": "ipython3",
   "version": "3.10.16"
  }
 },
 "nbformat": 4,
 "nbformat_minor": 5
}
