{
 "cells": [
  {
   "cell_type": "code",
   "execution_count": null,
   "id": "29171af1-f2d9-477b-9cc5-bec8ab668921",
   "metadata": {},
   "outputs": [],
   "source": [
    "!pip install -U accelerate bitsandbytes datasets peft transformers"
   ]
  },
  {
   "cell_type": "code",
   "execution_count": null,
   "id": "9222b2ee-edcb-487f-a1cd-0cd3eb8dcbe1",
   "metadata": {},
   "outputs": [],
   "source": []
  }
 ],
 "metadata": {
  "kernelspec": {
   "display_name": "Python (training)",
   "language": "python",
   "name": "training"
  },
  "language_info": {
   "codemirror_mode": {
    "name": "ipython",
    "version": 3
   },
   "file_extension": ".py",
   "mimetype": "text/x-python",
   "name": "python",
   "nbconvert_exporter": "python",
   "pygments_lexer": "ipython3",
   "version": "3.9.13"
  }
 },
 "nbformat": 4,
 "nbformat_minor": 5
}
