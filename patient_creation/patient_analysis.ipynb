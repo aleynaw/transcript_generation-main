{
 "cells": [
  {
   "cell_type": "code",
   "execution_count": 1,
   "metadata": {},
   "outputs": [],
   "source": [
    "import seaborn as sns\n",
    "import pandas as pd"
   ]
  },
  {
   "cell_type": "code",
   "execution_count": 3,
   "metadata": {},
   "outputs": [],
   "source": [
    "patients_df = pd.read_csv(\"patients.csv\",delimiter=\"|\")"
   ]
  },
  {
   "cell_type": "code",
   "execution_count": 4,
   "metadata": {},
   "outputs": [
    {
     "data": {
      "text/plain": [
       "Index(['Clinician Name', 'Appointment Date', 'Sex', 'Name', 'Age',\n",
       "       'Date of Birth', 'Occupation', 'Medical Conditions', 'Medications',\n",
       "       'Address', 'Allergies', 'Reason for Appointment', 'Relationship Status',\n",
       "       'Elementary School Performance', 'High School Performance',\n",
       "       'Canadian Citizenship', 'Children', 'Siblings', 'Seizures',\n",
       "       'Developmental Difficulties', 'Family History of Health Conditions',\n",
       "       'Previous Hospitalization', 'Disability Assistance', 'Past Trauma',\n",
       "       'Substance Abuse', 'Typing Style', 'Conversational Tone',\n",
       "       'Recreational Drug Usage', 'Edge Case Scenario'],\n",
       "      dtype='object')"
      ]
     },
     "execution_count": 4,
     "metadata": {},
     "output_type": "execute_result"
    }
   ],
   "source": [
    "patients_df.keys()"
   ]
  },
  {
   "cell_type": "code",
   "execution_count": 8,
   "metadata": {},
   "outputs": [
    {
     "data": {
      "text/plain": [
       "Sex\n",
       "Female    5\n",
       "Male      5\n",
       "Name: count, dtype: int64"
      ]
     },
     "execution_count": 8,
     "metadata": {},
     "output_type": "execute_result"
    }
   ],
   "source": [
    "(patients_df[\"Sex\"].astype(\"category\")).value_counts()"
   ]
  },
  {
   "cell_type": "code",
   "execution_count": null,
   "metadata": {},
   "outputs": [],
   "source": [
    "patients_df[\"\"]"
   ]
  }
 ],
 "metadata": {
  "kernelspec": {
   "display_name": "Python 3 (ipykernel)",
   "language": "python",
   "name": "python3"
  },
  "language_info": {
   "codemirror_mode": {
    "name": "ipython",
    "version": 3
   },
   "file_extension": ".py",
   "mimetype": "text/x-python",
   "name": "python",
   "nbconvert_exporter": "python",
   "pygments_lexer": "ipython3",
   "version": "3.9.13"
  }
 },
 "nbformat": 4,
 "nbformat_minor": 4
}
