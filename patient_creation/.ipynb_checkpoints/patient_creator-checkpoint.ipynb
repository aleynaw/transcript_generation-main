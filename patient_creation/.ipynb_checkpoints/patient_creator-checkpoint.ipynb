{
 "cells": [
  {
   "cell_type": "code",
   "execution_count": 5,
   "metadata": {},
   "outputs": [],
   "source": [
    "import os, sys\n",
    "\n",
    "sys.path.append(os.path.join(os.getcwd(), '..'))\n",
    "import pgen.patient_creator as patient_creator"
   ]
  },
  {
   "cell_type": "code",
   "execution_count": 20,
   "metadata": {},
   "outputs": [
    {
     "data": {
      "text/plain": [
       "{'Clinician Name': 'Daisy Zimmerman',\n",
       " 'Appointment Date': 'April 1',\n",
       " 'Sex': 'Female',\n",
       " 'Name': 'Michelle Amber Sanchez',\n",
       " 'Age': 68,\n",
       " 'Date of Birth': 'July 8 1955',\n",
       " 'Occupation': 'Engineer, mining',\n",
       " 'Medical Conditions': 'generalized anxiety disorder, avoidant personality disorder, anorexia',\n",
       " 'Medications': 'Lexapro, Zoloft',\n",
       " 'Address': '5563 Shelby Stream Suite 369, South Megan, British Columbia, Canada',\n",
       " 'Allergies': 'fragrances, opioid pain medications, ',\n",
       " 'Reason for Appointment': 'severe and disruptive irritability, persistent feelings of hopelessness or helplessness',\n",
       " 'Relationship Status': 'windowed',\n",
       " 'Elementary School Performance': 'average',\n",
       " 'High School Performance': 'dropped out',\n",
       " 'Canadian Citizenship': 'yes',\n",
       " 'Children': 'yes',\n",
       " 'Siblings': '',\n",
       " 'Seizures': 'yes',\n",
       " 'Developmental Difficulties': 'yes',\n",
       " 'Family History of Health Conditions': '',\n",
       " 'Previous Hospitalization': '',\n",
       " 'Disability Assistance': 'yes',\n",
       " 'Past Trauma': 'yes',\n",
       " 'Substance Abuse': 'no',\n",
       " 'Typing Style': 'brief',\n",
       " 'Conversational Tone': 'neutral',\n",
       " 'Recreational Drug Usage': ''}"
      ]
     },
     "execution_count": 20,
     "metadata": {},
     "output_type": "execute_result"
    }
   ],
   "source": [
    "patient_csv_path = \"./patients.csv\"\n",
    "patient_creator.patient_creator({}, patient_csv_path)"
   ]
  }
 ],
 "metadata": {
  "kernelspec": {
   "display_name": "locllm_m1",
   "language": "python",
   "name": "python3"
  },
  "language_info": {
   "codemirror_mode": {
    "name": "ipython",
    "version": 3
   },
   "file_extension": ".py",
   "mimetype": "text/x-python",
   "name": "python",
   "nbconvert_exporter": "python",
   "pygments_lexer": "ipython3",
   "version": "3.10.13"
  }
 },
 "nbformat": 4,
 "nbformat_minor": 2
}
