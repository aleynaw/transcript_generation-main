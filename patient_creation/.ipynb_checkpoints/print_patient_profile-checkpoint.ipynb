{
 "cells": [
  {
   "cell_type": "code",
   "execution_count": null,
   "id": "f9845614-3cf9-4840-aafc-f394d13f91a3",
   "metadata": {},
   "outputs": [
    {
     "name": "stdout",
     "output_type": "stream",
     "text": [
      "15\n"
     ]
    }
   ],
   "source": [
    "import sys, os, csv, ast, random, time\n",
    "import pandas as pd\n",
    "import re\n",
    "from pathlib import Path\n",
    "\n",
    "patients_path = Path(r\"C:\\Users\\aleynaw\\Desktop\\transcript_generation-main\\patient_creation\\llm_patients.csv\")\n",
    "patients_df = pd.read_csv(patients_path,delimiter=\"|\")\n",
    "# print(patients_df)\n",
    "\n",
    "try:\n",
    "    sys.path.append('../../transcript_generation')\n",
    "    from transcript_generation import helper_fns as helper\n",
    "except ModuleNotFoundError:\n",
    "    import helper_fns as helper\n",
    "\n",
    "    \n",
    "patients_list = []\n",
    "        \n",
    "for i, patient in patients_df.iterrows():\n",
    "    \n",
    "    if \"Edge Case Scenario\" in patient:  # if there is an edge case\n",
    "        edge_case = patient[\"Edge Case Scenario\"]\n",
    "        ignore_keys = [\"Clinician Name\", \"Appointment Date\", 'Conversational Tone', 'Reason for Appointment']\n",
    "    else:  # if there is no edge case\n",
    "        edge_case = \"\"\n",
    "        ignore_keys = [\"Clinician Name\", \"Appointment Date\", 'Conversational Tone', \"Edge Case Scenario\", 'Reason for Appointment']\n",
    "\n",
    "    # print(patient)\n",
    "    patient_dict = patient.dropna().to_dict()\n",
    "    patient=patient_dict\n",
    "    patient_string = helper.patient_to_str(patient, ignore_keys)\n",
    "    \n",
    "    patients_list.append(patient_string)\n",
    "    \n",
    "print(len(patients_list))"
   ]
  }
 ],
 "metadata": {
  "kernelspec": {
   "display_name": "Python (llm)",
   "language": "python",
   "name": "llm"
  },
  "language_info": {
   "codemirror_mode": {
    "name": "ipython",
    "version": 3
   },
   "file_extension": ".py",
   "mimetype": "text/x-python",
   "name": "python",
   "nbconvert_exporter": "python",
   "pygments_lexer": "ipython3",
   "version": "3.9.13"
  }
 },
 "nbformat": 4,
 "nbformat_minor": 5
}
