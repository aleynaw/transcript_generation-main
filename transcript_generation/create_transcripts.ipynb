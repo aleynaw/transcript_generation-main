{
 "cells": [
  {
   "cell_type": "code",
   "execution_count": 1,
   "metadata": {},
   "outputs": [
    {
     "name": "stdout",
     "output_type": "stream",
     "text": [
      "/home/ninc-user/finetuning/transcript_generation-main/transcript_generation\n"
     ]
    },
    {
     "ename": "ModuleNotFoundError",
     "evalue": "No module named 'langchain_ollama'",
     "output_type": "error",
     "traceback": [
      "\u001b[0;31m---------------------------------------------------------------------------\u001b[0m",
      "\u001b[0;31mModuleNotFoundError\u001b[0m                       Traceback (most recent call last)",
      "Cell \u001b[0;32mIn[1], line 11\u001b[0m\n\u001b[1;32m      8\u001b[0m \u001b[38;5;28mprint\u001b[39m(Path\u001b[38;5;241m.\u001b[39mcwd())\n\u001b[1;32m     10\u001b[0m \u001b[38;5;66;03m# from double_model import double_model_llama\u001b[39;00m\n\u001b[0;32m---> 11\u001b[0m \u001b[38;5;28;01mfrom\u001b[39;00m \u001b[38;5;21;01mdouble_model\u001b[39;00m \u001b[38;5;28;01mimport\u001b[39;00m double_model_chunking_v2\n\u001b[1;32m     12\u001b[0m \u001b[38;5;66;03m# from single_model import single_model_llama\u001b[39;00m\n",
      "File \u001b[0;32m~/finetuning/transcript_generation-main/transcript_generation/double_model/double_model_chunking_v2.py:21\u001b[0m\n\u001b[1;32m     18\u001b[0m     \u001b[38;5;28;01mimport\u001b[39;00m \u001b[38;5;21;01mhelper_fns\u001b[39;00m \u001b[38;5;28;01mas\u001b[39;00m \u001b[38;5;21;01mhelper\u001b[39;00m\n\u001b[1;32m     20\u001b[0m \u001b[38;5;66;03m# import Langchain and Ollama\u001b[39;00m\n\u001b[0;32m---> 21\u001b[0m \u001b[38;5;28;01mfrom\u001b[39;00m \u001b[38;5;21;01mlangchain_ollama\u001b[39;00m \u001b[38;5;28;01mimport\u001b[39;00m OllamaLLM\n\u001b[1;32m     22\u001b[0m \u001b[38;5;28;01mfrom\u001b[39;00m \u001b[38;5;21;01mlangchain_core\u001b[39;00m\u001b[38;5;21;01m.\u001b[39;00m\u001b[38;5;21;01mprompts\u001b[39;00m \u001b[38;5;28;01mimport\u001b[39;00m ChatPromptTemplate\n\u001b[1;32m     24\u001b[0m model1 \u001b[38;5;241m=\u001b[39m OllamaLLM(base_url\u001b[38;5;241m=\u001b[39m\u001b[38;5;124m\"\u001b[39m\u001b[38;5;124mlocalhost:11435\u001b[39m\u001b[38;5;124m\"\u001b[39m, \n\u001b[1;32m     25\u001b[0m                   model\u001b[38;5;241m=\u001b[39m\u001b[38;5;124m\"\u001b[39m\u001b[38;5;124mllama3.1:70b-instruct-q4_0\u001b[39m\u001b[38;5;124m\"\u001b[39m, \n\u001b[1;32m     26\u001b[0m                   temperature\u001b[38;5;241m=\u001b[39m\u001b[38;5;241m0.9\u001b[39m, \n\u001b[1;32m     27\u001b[0m                   num_ctx \u001b[38;5;241m=\u001b[39m \u001b[38;5;241m6144\u001b[39m,\n\u001b[1;32m     28\u001b[0m                   top_k \u001b[38;5;241m=\u001b[39m \u001b[38;5;241m40\u001b[39m,\n\u001b[1;32m     29\u001b[0m                   top_p \u001b[38;5;241m=\u001b[39m \u001b[38;5;241m0.9\u001b[39m)\n",
      "\u001b[0;31mModuleNotFoundError\u001b[0m: No module named 'langchain_ollama'"
     ]
    }
   ],
   "source": [
    "import os, sys\n",
    "from pathlib import Path\n",
    "from datetime import datetime\n",
    "import csv\n",
    "import pandas as pd\n",
    "import random\n",
    "\n",
    "print(Path.cwd())\n",
    "\n",
    "# from double_model import double_model_llama\n",
    "from double_model import double_model_chunking_v2\n",
    "# from single_model import single_model_llama"
   ]
  },
  {
   "cell_type": "code",
   "execution_count": null,
   "metadata": {},
   "outputs": [],
   "source": [
    "### read the patients csv\n",
    "patients_path = Path(\"../patient_creation/llm_patients.csv\")\n",
    "patients_df = pd.read_csv(patients_path,delimiter=\"|\")\n",
    "\n",
    "# print(patients_df)\n",
    "# print(\"number of patients:\", len(patients_df))"
   ]
  },
  {
   "cell_type": "code",
   "execution_count": null,
   "metadata": {},
   "outputs": [],
   "source": [
    "folder_name = \"llama3.1\"\n",
    "Path.mkdir(Path(Path.cwd(), \"transcripts\", folder_name), exist_ok=True)"
   ]
  },
  {
   "cell_type": "code",
   "execution_count": null,
   "metadata": {},
   "outputs": [],
   "source": [
    "#ssh ninc-user@10.20.242.33 -L 11435:localhost:11434"
   ]
  },
  {
   "cell_type": "code",
   "execution_count": null,
   "metadata": {},
   "outputs": [],
   "source": [
    "random.seed()\n",
    "### pass in a patient to create an interview\n",
    "for i, patient in patients_df.iterrows():\n",
    "    # output_id = datetime.now().strftime(\"%Y%m%d-%H%M%S\")\n",
    "    # patient_dict = patient.dropna().to_dict()\n",
    "    # # print(patient_dict.keys())\n",
    "    # print(i, patient_dict[\"Full Name\"])\n",
    "    # double_model_chunking_v2.interview_gen(patient=patient_dict, output_id=output_id, out_dir=f\"./transcripts/{folder_name}/DM\")\n",
    "    # double_model.interview_gen(patient=patient_dict, output_id=output_id,out_dir=f\"./transcripts/{folder_name}/DM\")\n",
    "    # single_model.interview_gen(patient=patient_dict, output_id=output_id, out_dir=f\"./transcripts/{folder_name}/SM\")\n",
    "\n",
    "    #### use the code below instead if you want to generate a transcript for a certain patient\n",
    "    \n",
    "    if i == 0:\n",
    "        output_id = datetime.now().strftime(\"%Y%m%d-%H%M%S\")\n",
    "        patient_dict = patient.dropna().to_dict()\n",
    "        print(i, patient_dict[\"Full Name\"])\n",
    "    #     # double_model.interview_gen(patient=patient_dict, output_id=output_id,out_dir=f\"./transcripts/{folder_name}/DM\")\n",
    "    #     # double_model_llama.interview_gen(patient=patient_dict, output_id=output_id, out_dir=f\"./transcripts/{folder_name}/DM\") \n",
    "        double_model_chunking_v2.interview_gen(patient=patient_dict, output_id=output_id, out_dir=f\"./transcripts/{folder_name}/DM\") "
   ]
  }
 ],
 "metadata": {
  "kernelspec": {
   "display_name": "Python (unsloth_env)",
   "language": "python",
   "name": "unsloth_env"
  },
  "language_info": {
   "codemirror_mode": {
    "name": "ipython",
    "version": 3
   },
   "file_extension": ".py",
   "mimetype": "text/x-python",
   "name": "python",
   "nbconvert_exporter": "python",
   "pygments_lexer": "ipython3",
   "version": "3.11.10"
  }
 },
 "nbformat": 4,
 "nbformat_minor": 4
}
